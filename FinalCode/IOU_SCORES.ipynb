{
 "cells": [
  {
   "cell_type": "code",
   "execution_count": 1,
   "metadata": {},
   "outputs": [],
   "source": [
    "import numpy as np\n",
    "import cv2"
   ]
  },
  {
   "cell_type": "code",
   "execution_count": 3,
   "metadata": {},
   "outputs": [
    {
     "name": "stdout",
     "output_type": "stream",
     "text": [
      "IOU_Score = 0.9254334998858248\n",
      "F1_Score =  0.9231996582039941\n"
     ]
    }
   ],
   "source": [
    "iou_score = 0\n",
    "dice = 0\n",
    "smooth = 1\n",
    "for i in range(30):\n",
    "    y_true = cv2.imread('final_test/%d_predict.png'%i)\n",
    "    y_pred = cv2.imread('final_tests/%d_predict.png'%i)\n",
    "    intersection = np.logical_and(y_true, y_pred)\n",
    "    union = np.logical_or(y_true, y_pred)\n",
    "    iou_score = iou_score + np.sum(intersection) / np.sum(union)\n",
    "    dice = dice + (2*(np.sum(intersection)+smooth))/(256*256*6+smooth)\n",
    "iou =  iou_score/30\n",
    "f1 = dice/30\n",
    "print(\"IOU_Score =\",iou)\n",
    "print(\"F1_Score = \",f1)"
   ]
  },
  {
   "cell_type": "code",
   "execution_count": null,
   "metadata": {},
   "outputs": [],
   "source": []
  }
 ],
 "metadata": {
  "kernelspec": {
   "display_name": "Python 3",
   "language": "python",
   "name": "python3"
  },
  "language_info": {
   "codemirror_mode": {
    "name": "ipython",
    "version": 3
   },
   "file_extension": ".py",
   "mimetype": "text/x-python",
   "name": "python",
   "nbconvert_exporter": "python",
   "pygments_lexer": "ipython3",
   "version": "3.7.3"
  }
 },
 "nbformat": 4,
 "nbformat_minor": 2
}
